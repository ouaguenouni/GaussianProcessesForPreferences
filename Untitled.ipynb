{
 "cells": [
  {
   "cell_type": "code",
   "execution_count": 94,
   "id": "d94b9c3d-7a1d-45bd-9437-90c087ba241f",
   "metadata": {},
   "outputs": [
    {
     "data": {
      "image/png": "[encoded data removed]",
      "text/plain": [
       "<Figure size 576x432 with 1 Axes>"
      ]
     },
     "metadata": {
      "needs_background": "light"
     },
     "output_type": "display_data"
    }
   ],
   "source": [
    "import numpy as np\n",
    "import matplotlib.pyplot as plt\n",
    "from scipy.stats import norm\n",
    "from itertools import combinations\n",
    "import torch\n",
    "import random\n",
    "\n",
    "# Generate probabilities between 0 and 1\n",
    "p = np.linspace(0.001, 0.999, 1000)\n",
    "\n",
    "# Calculate probit values for these probabilities\n",
    "probit_values = norm.ppf(p)\n",
    "\n",
    "# Plot\n",
    "plt.figure(figsize=(8, 6))\n",
    "plt.plot(p, probit_values, label='Probit Function', color='blue')\n",
    "plt.title('Probit Function')\n",
    "plt.xlabel('Probability p')\n",
    "plt.ylabel('Probit(p)')\n",
    "plt.grid(True)\n",
    "plt.legend()\n",
    "plt.tight_layout()\n",
    "plt.savefig(\"probit.png\")"
   ]
  },
  {
   "cell_type": "code",
   "execution_count": 79,
   "id": "3816d39c-dcd9-4c7e-b49d-18869d8c658b",
   "metadata": {},
   "outputs": [],
   "source": [
    "def singletons_and_pairs(lst):\n",
    "    singletons = [(x,) for x in lst]\n",
    "    pairs = list(combinations(lst, 2))\n",
    "    return singletons + pairs\n",
    "\n",
    "def sample_w(model):\n",
    "    w = np.random.normal(0, 1, size = (len(model),))\n",
    "    p = np.random.randint(0, 2, size = (len(model),))\n",
    "    w = w * p\n",
    "    return w"
   ]
  },
  {
   "cell_type": "code",
   "execution_count": 80,
   "id": "475712f8-b479-4211-b9bc-129d2ec8374e",
   "metadata": {},
   "outputs": [
    {
     "data": {
      "text/plain": [
       "array([ 1.16509878, -0.57694108,  0.        , -0.        ,  0.        ,\n",
       "        0.78013969,  0.88440196,  0.56295539,  0.95915528, -2.23040501,\n",
       "       -0.        , -1.07893332, -0.        , -0.35469251,  2.43243262])"
      ]
     },
     "execution_count": 80,
     "metadata": {},
     "output_type": "execute_result"
    }
   ],
   "source": [
    "items = np.arange(6)\n",
    "\n",
    "ingredients = [\"o\", \"a\", \"b\",\"l\", \"m\"]\n",
    "model = singletons_and_pairs(ingredients)\n",
    "sample_w(model)"
   ]
  },
  {
   "cell_type": "code",
   "execution_count": 105,
   "id": "e5973450-40e7-4ecb-8244-6e1dd24b2ed8",
   "metadata": {},
   "outputs": [],
   "source": [
    "def vectorize_smoothie(smoothie):\n",
    "    arr = np.zeros(len(model))\n",
    "    for i in range(arr.shape[0]):\n",
    "        if all(j in list(smoothie) for j in model[i]):\n",
    "            arr[i] = 1\n",
    "    return arr\n",
    "\n",
    "def f(smoothie, w):\n",
    "    return torch.tensor(vectorize_smoothie(smoothie))@w\n",
    "\n",
    "def cdf(z):\n",
    "    return 0.5 * (1.0 + torch.erf(z / torch.sqrt(torch.tensor(2.0))))\n",
    "\n",
    "def random_subset(input_list):\n",
    "    k = random.randint(0, len(input_list))\n",
    "    return \"\".join(sorted(random.sample(input_list, k)))\n",
    "\n",
    "w = torch.nn.Parameter(torch.tensor(sample_w(model)).clone().detach())"
   ]
  },
  {
   "cell_type": "code",
   "execution_count": 106,
   "id": "9e2cb338-824f-484d-8c0d-8e69c2c7f812",
   "metadata": {},
   "outputs": [
    {
     "data": {
      "text/plain": [
       "tensor(0.3512, dtype=torch.float64, grad_fn=<MulBackward0>)"
      ]
     },
     "execution_count": 106,
     "metadata": {},
     "output_type": "execute_result"
    }
   ],
   "source": [
    "cdf(f(\"oab\", w) - f(\"ao\", w))"
   ]
  },
  {
   "cell_type": "code",
   "execution_count": 107,
   "id": "7aba7146-36a6-4cd8-a7d7-a36130a103c3",
   "metadata": {},
   "outputs": [
    {
     "data": {
      "text/plain": [
       "'mo'"
      ]
     },
     "execution_count": 107,
     "metadata": {},
     "output_type": "execute_result"
    }
   ],
   "source": [
    "random_subset(ingredients)"
   ]
  },
  {
   "cell_type": "code",
   "execution_count": null,
   "id": "f52923fe-af4f-4d99-9aeb-098a1d82da2a",
   "metadata": {},
   "outputs": [],
   "source": [
    "def sample_dataset(model):\n",
    "    w = sample_w(model)\n",
    "    "
   ]
  }
 ],
 "metadata": {
  "kernelspec": {
   "display_name": "Python 3 (ipykernel)",
   "language": "python",
   "name": "python3"
  },
  "language_info": {
   "codemirror_mode": {
    "name": "ipython",
    "version": 3
   },
   "file_extension": ".py",
   "mimetype": "text/x-python",
   "name": "python",
   "nbconvert_exporter": "python",
   "pygments_lexer": "ipython3",
   "version": "3.9.12"
  }
 },
 "nbformat": 4,
 "nbformat_minor": 5
}
